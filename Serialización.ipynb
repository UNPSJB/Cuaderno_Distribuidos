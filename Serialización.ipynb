{
 "cells": [
  {
   "cell_type": "markdown",
   "metadata": {},
   "source": [
    "# Serialización de tipo no nativos\n",
    "\n",
    "Pyro4 puede serializar todo lo que [pickle](https://docs.python.org/2/library/pickle.html) pueda serializar. Pero no todos los tipos de datos dentro de la librería estandard son serializables."
   ]
  },
  {
   "cell_type": "markdown",
   "metadata": {},
   "source": [
    "### Tipos de datos serializables por defecto\n",
    " * `bool`\n",
    " * `str`, `unicode`, `basestring`\n",
    " * `int`, `float`, `complex`\n",
    " * `set`, `frozenset`, `list`, `tuple`, `dict`"
   ]
  },
  {
   "cell_type": "markdown",
   "metadata": {},
   "source": [
    "## Para que un tipo de dato no nativo sea serializable...\n",
    "\n",
    "debe implementar [`__getstate__`](https://docs.python.org/2/library/pickle.html#object.__getstate__). En los los tipos de nativos que son privistos mediante [variaciones protegidas] (https://es.wikipedia.org/wiki/GRASP#Variaciones_Protegidas) como por ejemplo:\n",
    "\n"
   ]
  },
  {
   "cell_type": "code",
   "execution_count": 3,
   "metadata": {
    "collapsed": false
   },
   "outputs": [
    {
     "name": "stdout",
     "output_type": "stream",
     "text": [
      "posix.stat_result(st_mode=16877, st_ino=29865223, st_dev=16777221, st_nlink=15, st_uid=501, st_gid=20, st_size=510, st_atime=1445264635, st_mtime=1445264720, st_ctime=1445264720)\n"
     ]
    }
   ],
   "source": [
    "import os\n",
    "stat = os.lstat('.')\n",
    "print(stat)"
   ]
  },
  {
   "cell_type": "markdown",
   "metadata": {},
   "source": [
    "### Ya que Python es dinámico, podemos hacer [*monkeypatching*](https://en.wikipedia.org/wiki/Monkey_patch)?\n",
    "\n",
    "Esta sería una solución sub-óptima, pero rápida..."
   ]
  },
  {
   "cell_type": "code",
   "execution_count": 4,
   "metadata": {
    "collapsed": false
   },
   "outputs": [
    {
     "name": "stdout",
     "output_type": "stream",
     "text": [
      "No funcoina!\n"
     ]
    }
   ],
   "source": [
    "def mi_getstate(self):\n",
    "    return \"algo intresante\"\n",
    "try:\n",
    "    stat.__getstate__ = mi_getstate\n",
    "except:\n",
    "    print(\"No funcoina!\")"
   ]
  },
  {
   "cell_type": "markdown",
   "metadata": {},
   "source": [
    "### Un wrapper podría ser una alternativa, pero que tal si la API de FUSE acepara algun tipo de dato naitvo?"
   ]
  },
  {
   "cell_type": "markdown",
   "metadata": {},
   "source": [
    "Veamos el ejemplo que utiliza `os.lstat` del ejemplo de loopback.\n",
    "```python\n",
    "    def getattr(self, path, fh=None):\n",
    "        st = os.lstat(path)\n",
    "        return dict((key, getattr(st, key)) for key in ('st_atime', 'st_ctime',\n",
    "            'st_gid', 'st_mode', 'st_mtime', 'st_nlink', 'st_size', 'st_uid'))\n",
    "```\n",
    "[Ver en Github](https://github.com/terencehonles/fusepy/blob/master/examples/loopback.py#L39)\n",
    "\n",
    "Está utilizando un diccionario, en vez de devolver un tipo de datos personalizado.\n"
   ]
  },
  {
   "cell_type": "markdown",
   "metadata": {},
   "source": [
    "### ¿Cómo generamos un diccionario a partir de un objeto?"
   ]
  },
  {
   "cell_type": "markdown",
   "metadata": {},
   "source": [
    "### ¿Primero debemos saber de qué atributos se compone un objeto *x*?"
   ]
  },
  {
   "cell_type": "markdown",
   "metadata": {},
   "source": [
    "Existe una función interna `dir()` que obtiene todos los atributos y métodos de un objeto, clase o módulo.\n",
    "\n",
    "Veamos como funciona:"
   ]
  },
  {
   "cell_type": "code",
   "execution_count": 5,
   "metadata": {
    "collapsed": false
   },
   "outputs": [
    {
     "name": "stdout",
     "output_type": "stream",
     "text": [
      "['__add__', '__class__', '__contains__', '__delattr__', '__doc__', '__eq__', '__format__', '__ge__', '__getattribute__', '__getitem__', '__getslice__', '__gt__', '__hash__', '__init__', '__le__', '__len__', '__lt__', '__mul__', '__ne__', '__new__', '__reduce__', '__reduce_ex__', '__repr__', '__rmul__', '__setattr__', '__sizeof__', '__str__', '__subclasshook__', 'n_fields', 'n_sequence_fields', 'n_unnamed_fields', 'st_atime', 'st_birthtime', 'st_blksize', 'st_blocks', 'st_ctime', 'st_dev', 'st_flags', 'st_gen', 'st_gid', 'st_ino', 'st_mode', 'st_mtime', 'st_nlink', 'st_rdev', 'st_size', 'st_uid']\n"
     ]
    }
   ],
   "source": [
    "x = os.lstat('.')  # Como vimos más arriba esto nos devuelve un posix.stat_result\n",
    "print(dir(x))"
   ]
  },
  {
   "cell_type": "markdown",
   "metadata": {},
   "source": [
    "Los métodos que comienzan y terminan con doble guión bajo, son internos de Python y tienen un significado especial y no nos interesan, no son parte del ***estado*** del objeto."
   ]
  },
  {
   "cell_type": "markdown",
   "metadata": {},
   "source": [
    "### ¿Como obtenemos los nombres de los atributos y métodos de *x* que no son `__foo__`?"
   ]
  },
  {
   "cell_type": "markdown",
   "metadata": {},
   "source": [
    "Las listas por comprenisón son una mecanismo de crear una lista describiendo sus características a partir de  un conjunto, en vez de enumerar sus elementos. Se utiliza la construcción **`for`**."
   ]
  },
  {
   "cell_type": "code",
   "execution_count": 6,
   "metadata": {
    "collapsed": false
   },
   "outputs": [
    {
     "name": "stdout",
     "output_type": "stream",
     "text": [
      "['n_fields', 'n_sequence_fields', 'n_unnamed_fields', 'st_atime', 'st_birthtime', 'st_blksize', 'st_blocks', 'st_ctime', 'st_dev', 'st_flags', 'st_gen', 'st_gid', 'st_ino', 'st_mode', 'st_mtime', 'st_nlink', 'st_rdev', 'st_size', 'st_uid']\n"
     ]
    }
   ],
   "source": [
    "attrs = [name for name in dir(x) if '__' not in name]\n",
    "print attrs"
   ]
  },
  {
   "cell_type": "markdown",
   "metadata": {},
   "source": [
    "#### O lo que es lo mismo, de una manera más funcional"
   ]
  },
  {
   "cell_type": "code",
   "execution_count": 5,
   "metadata": {
    "collapsed": false
   },
   "outputs": [
    {
     "data": {
      "text/plain": [
       "['n_fields',\n",
       " 'n_sequence_fields',\n",
       " 'n_unnamed_fields',\n",
       " 'st_atime',\n",
       " 'st_birthtime',\n",
       " 'st_blksize',\n",
       " 'st_blocks',\n",
       " 'st_ctime',\n",
       " 'st_dev',\n",
       " 'st_flags',\n",
       " 'st_gen',\n",
       " 'st_gid',\n",
       " 'st_ino',\n",
       " 'st_mode',\n",
       " 'st_mtime',\n",
       " 'st_nlink',\n",
       " 'st_rdev',\n",
       " 'st_size',\n",
       " 'st_uid']"
      ]
     },
     "execution_count": 5,
     "metadata": {},
     "output_type": "execute_result"
    }
   ],
   "source": [
    "attr_interesante = lambda a: not a.startswith('__')\n",
    "atributos = lambda obj: filter(attr_interesante, dir(obj))\n",
    "atributos(x)"
   ]
  },
  {
   "cell_type": "markdown",
   "metadata": {},
   "source": [
    "# Generando un diccionario\n",
    "\n",
    "Además de `{'a': 1, 'b': 2}` y `dict(a=1, b=2)`, podemos crear un diccionario a partir de:\n",
    "* *Lista de tuplas* `[('a', 1), ('b',  2)]` pasadas al `dict()` como argumento.\n",
    "    * Es como se utiliza en el ejemplo de `loopback.py`\n",
    "* *Por comprensión* con la notación `{k: v for k, v in [('a', 1), ('b', 2)]}`\n",
    "    * Puede que ser que `v` sea una función de `k` y por lo tanto la iteración se hace sobre un iterable cuyos elmentos no son tuplas."
   ]
  },
  {
   "cell_type": "markdown",
   "metadata": {},
   "source": [
    "### Obtención de un atributo en Python\n",
    "\n",
    "Python es un [lenguaje reflexivo](https://es.wikipedia.org/wiki/Reflexi%C3%B3n_%28inform%C3%A1tica%29), esto significa que se puede, dado un nombre, obtener el atributo de un objeto con que lleva ese nombre.\n"
   ]
  },
  {
   "cell_type": "code",
   "execution_count": 6,
   "metadata": {
    "collapsed": false
   },
   "outputs": [
    {
     "name": "stdout",
     "output_type": "stream",
     "text": [
      "Foo\n",
      "12\n"
     ]
    }
   ],
   "source": [
    "class Ejemplo(object):\n",
    "    def __init__(self, nombre, edad):\n",
    "        self.nombre = nombre\n",
    "        self.edad = edad\n",
    "o = Ejemplo(\"Foo\", 12)\n",
    "print(getattr(o, 'nombre'))\n",
    "print(getattr(o, 'edad'))"
   ]
  },
  {
   "cell_type": "markdown",
   "metadata": {},
   "source": [
    "### En el contexto de lstat..."
   ]
  },
  {
   "cell_type": "code",
   "execution_count": 7,
   "metadata": {
    "collapsed": false
   },
   "outputs": [],
   "source": [
    "def diccionario_de_atributos(cosa):\n",
    "    return {attr: getattr(cosa, attr) for attr in dir(cosa) if not attr.startswith('__')}"
   ]
  },
  {
   "cell_type": "code",
   "execution_count": 8,
   "metadata": {
    "collapsed": false
   },
   "outputs": [
    {
     "data": {
      "text/plain": [
       "{'n_fields': 19,\n",
       " 'n_sequence_fields': 10,\n",
       " 'n_unnamed_fields': 3,\n",
       " 'st_atime': 1445231158.0,\n",
       " 'st_birthtime': 1437916096.0,\n",
       " 'st_blksize': 4096,\n",
       " 'st_blocks': 0,\n",
       " 'st_ctime': 1445231134.0,\n",
       " 'st_dev': 16777221,\n",
       " 'st_flags': 0,\n",
       " 'st_gen': 0,\n",
       " 'st_gid': 20,\n",
       " 'st_ino': 29865223,\n",
       " 'st_mode': 16877,\n",
       " 'st_mtime': 1445231134.0,\n",
       " 'st_nlink': 14,\n",
       " 'st_rdev': 0,\n",
       " 'st_size': 476,\n",
       " 'st_uid': 501}"
      ]
     },
     "execution_count": 8,
     "metadata": {},
     "output_type": "execute_result"
    }
   ],
   "source": [
    "diccionario_de_atributos(stat)"
   ]
  },
  {
   "cell_type": "markdown",
   "metadata": {},
   "source": [
    "![](static/meme_success.jpg)"
   ]
  },
  {
   "cell_type": "markdown",
   "metadata": {},
   "source": [
    "# Probemos todo junto"
   ]
  },
  {
   "cell_type": "code",
   "execution_count": 3,
   "metadata": {
    "collapsed": false
   },
   "outputs": [],
   "source": [
    "from utils import lanzar_backgounrd, lanzar_como_proceso"
   ]
  },
  {
   "cell_type": "code",
   "execution_count": 4,
   "metadata": {
    "collapsed": false
   },
   "outputs": [
    {
     "name": "stdout",
     "output_type": "stream",
     "text": [
      "Lanzando pyro4-ns con pid 65785\n"
     ]
    },
    {
     "data": {
      "text/plain": [
       "(True, 65785)"
      ]
     },
     "execution_count": 4,
     "metadata": {},
     "output_type": "execute_result"
    }
   ],
   "source": [
    "lanzar_backgounrd('pyro4-ns', a_menos_que='lsof -t -i TCP:9090 -sTCP:LISTEN')"
   ]
  },
  {
   "cell_type": "code",
   "execution_count": 5,
   "metadata": {
    "collapsed": false
   },
   "outputs": [
    {
     "name": "stdout",
     "output_type": "stream",
     "text": [
      "Lanzando <function servidor at 0x110a708c0> con el pid 65790.\n"
     ]
    },
    {
     "name": "stderr",
     "output_type": "stream",
     "text": [
      "Process Process-1:\n",
      "Traceback (most recent call last):\n",
      "  File \"/usr/local/Cellar/python/2.7.10_2/Frameworks/Python.framework/Versions/2.7/lib/python2.7/multiprocessing/process.py\", line 258, in _bootstrap\n",
      "    self.run()\n",
      "  File \"/usr/local/Cellar/python/2.7.10_2/Frameworks/Python.framework/Versions/2.7/lib/python2.7/multiprocessing/process.py\", line 114, in run\n",
      "    self._target(*self._args, **self._kwargs)\n",
      "  File \"<ipython-input-5-c1b35034b8a9>\", line 16, in servidor\n",
      "    }, ns=True, verbose=True, host=socket.gethostname())\n",
      "  File \"/usr/local/lib/python2.7/site-packages/Pyro4/core.py\", line 953, in serveSimple\n",
      "    ns = Pyro4.naming.locateNS()\n",
      "  File \"/usr/local/lib/python2.7/site-packages/Pyro4/naming.py\", line 435, in locateNS\n",
      "    raise e\n",
      "NamingError: Failed to locate the nameserver\n"
     ]
    },
    {
     "ename": "NamingError",
     "evalue": "Failed to locate the nameserver",
     "output_type": "error",
     "traceback": [
      "\u001b[0;31m---------------------------------------------------------------------------\u001b[0m",
      "\u001b[0;31mNamingError\u001b[0m                               Traceback (most recent call last)",
      "\u001b[0;32m<ipython-input-5-c1b35034b8a9>\u001b[0m in \u001b[0;36m<module>\u001b[0;34m()\u001b[0m\n\u001b[1;32m     18\u001b[0m \u001b[0;32mwith\u001b[0m \u001b[0mlanzar_como_proceso\u001b[0m\u001b[0;34m(\u001b[0m\u001b[0mservidor\u001b[0m\u001b[0;34m)\u001b[0m \u001b[0;32mas\u001b[0m \u001b[0ms\u001b[0m\u001b[0;34m:\u001b[0m\u001b[0;34m\u001b[0m\u001b[0m\n\u001b[1;32m     19\u001b[0m     \u001b[0mobjeto_remoto\u001b[0m \u001b[0;34m=\u001b[0m \u001b[0mProxy\u001b[0m\u001b[0;34m(\u001b[0m\u001b[0;34m'PYRONAME:ejemplo'\u001b[0m\u001b[0;34m)\u001b[0m\u001b[0;34m\u001b[0m\u001b[0m\n\u001b[0;32m---> 20\u001b[0;31m     \u001b[0;32mprint\u001b[0m\u001b[0;34m(\u001b[0m\u001b[0mobjeto_remoto\u001b[0m\u001b[0;34m.\u001b[0m\u001b[0mlstat_attr\u001b[0m\u001b[0;34m(\u001b[0m\u001b[0;34m)\u001b[0m\u001b[0;34m)\u001b[0m\u001b[0;34m\u001b[0m\u001b[0m\n\u001b[0m",
      "\u001b[0;32m/usr/local/lib/python2.7/site-packages/Pyro4/core.pyc\u001b[0m in \u001b[0;36m__getattr__\u001b[0;34m(self, name)\u001b[0m\n\u001b[1;32m    245\u001b[0m             \u001b[0;31m# get metadata if it's not there yet\u001b[0m\u001b[0;34m\u001b[0m\u001b[0;34m\u001b[0m\u001b[0m\n\u001b[1;32m    246\u001b[0m             \u001b[0;32mif\u001b[0m \u001b[0;32mnot\u001b[0m \u001b[0mself\u001b[0m\u001b[0;34m.\u001b[0m\u001b[0m_pyroMethods\u001b[0m \u001b[0;32mand\u001b[0m \u001b[0;32mnot\u001b[0m \u001b[0mself\u001b[0m\u001b[0;34m.\u001b[0m\u001b[0m_pyroAttrs\u001b[0m\u001b[0;34m:\u001b[0m\u001b[0;34m\u001b[0m\u001b[0m\n\u001b[0;32m--> 247\u001b[0;31m                 \u001b[0mself\u001b[0m\u001b[0;34m.\u001b[0m\u001b[0m_pyroGetMetadata\u001b[0m\u001b[0;34m(\u001b[0m\u001b[0;34m)\u001b[0m\u001b[0;34m\u001b[0m\u001b[0m\n\u001b[0m\u001b[1;32m    248\u001b[0m         \u001b[0;32mif\u001b[0m \u001b[0mname\u001b[0m \u001b[0;32min\u001b[0m \u001b[0mself\u001b[0m\u001b[0;34m.\u001b[0m\u001b[0m_pyroAttrs\u001b[0m\u001b[0;34m:\u001b[0m\u001b[0;34m\u001b[0m\u001b[0m\n\u001b[1;32m    249\u001b[0m             \u001b[0;32mreturn\u001b[0m \u001b[0mself\u001b[0m\u001b[0;34m.\u001b[0m\u001b[0m_pyroInvoke\u001b[0m\u001b[0;34m(\u001b[0m\u001b[0;34m\"__getattr__\"\u001b[0m\u001b[0;34m,\u001b[0m \u001b[0;34m(\u001b[0m\u001b[0mname\u001b[0m\u001b[0;34m,\u001b[0m\u001b[0;34m)\u001b[0m\u001b[0;34m,\u001b[0m \u001b[0mNone\u001b[0m\u001b[0;34m)\u001b[0m\u001b[0;34m\u001b[0m\u001b[0m\n",
      "\u001b[0;32m/usr/local/lib/python2.7/site-packages/Pyro4/core.pyc\u001b[0m in \u001b[0;36m_pyroGetMetadata\u001b[0;34m(self, objectId, known_metadata)\u001b[0m\n\u001b[1;32m    541\u001b[0m         \u001b[0;32mif\u001b[0m \u001b[0mself\u001b[0m\u001b[0;34m.\u001b[0m\u001b[0m_pyroConnection\u001b[0m \u001b[0;32mis\u001b[0m \u001b[0mNone\u001b[0m \u001b[0;32mand\u001b[0m \u001b[0;32mnot\u001b[0m \u001b[0mknown_metadata\u001b[0m\u001b[0;34m:\u001b[0m\u001b[0;34m\u001b[0m\u001b[0m\n\u001b[1;32m    542\u001b[0m             \u001b[0;32mtry\u001b[0m\u001b[0;34m:\u001b[0m\u001b[0;34m\u001b[0m\u001b[0m\n\u001b[0;32m--> 543\u001b[0;31m                 \u001b[0mself\u001b[0m\u001b[0;34m.\u001b[0m\u001b[0m__pyroCreateConnection\u001b[0m\u001b[0;34m(\u001b[0m\u001b[0;34m)\u001b[0m\u001b[0;34m\u001b[0m\u001b[0m\n\u001b[0m\u001b[1;32m    544\u001b[0m             \u001b[0;32mexcept\u001b[0m \u001b[0merrors\u001b[0m\u001b[0;34m.\u001b[0m\u001b[0mPyroError\u001b[0m\u001b[0;34m:\u001b[0m\u001b[0;34m\u001b[0m\u001b[0m\n\u001b[1;32m    545\u001b[0m                 \u001b[0mlog\u001b[0m\u001b[0;34m.\u001b[0m\u001b[0merror\u001b[0m\u001b[0;34m(\u001b[0m\u001b[0;34m\"problem getting metadata: cannot connect\"\u001b[0m\u001b[0;34m)\u001b[0m\u001b[0;34m\u001b[0m\u001b[0m\n",
      "\u001b[0;32m/usr/local/lib/python2.7/site-packages/Pyro4/core.pyc\u001b[0m in \u001b[0;36m__pyroCreateConnection\u001b[0;34m(self, replaceUri)\u001b[0m\n\u001b[1;32m    452\u001b[0m                 \u001b[0;32mreturn\u001b[0m \u001b[0mFalse\u001b[0m  \u001b[0;31m# already connected\u001b[0m\u001b[0;34m\u001b[0m\u001b[0m\n\u001b[1;32m    453\u001b[0m             \u001b[0;32mfrom\u001b[0m \u001b[0mPyro4\u001b[0m\u001b[0;34m.\u001b[0m\u001b[0mnaming\u001b[0m \u001b[0;32mimport\u001b[0m \u001b[0mresolve\u001b[0m  \u001b[0;31m# don't import this globally because of cyclic dependency\u001b[0m\u001b[0;34m\u001b[0m\u001b[0m\n\u001b[0;32m--> 454\u001b[0;31m             \u001b[0muri\u001b[0m \u001b[0;34m=\u001b[0m \u001b[0mresolve\u001b[0m\u001b[0;34m(\u001b[0m\u001b[0mself\u001b[0m\u001b[0;34m.\u001b[0m\u001b[0m_pyroUri\u001b[0m\u001b[0;34m,\u001b[0m \u001b[0mself\u001b[0m\u001b[0;34m.\u001b[0m\u001b[0m_pyroHmacKey\u001b[0m\u001b[0;34m)\u001b[0m\u001b[0;34m\u001b[0m\u001b[0m\n\u001b[0m\u001b[1;32m    455\u001b[0m             \u001b[0;31m# socket connection (normal or Unix domain socket)\u001b[0m\u001b[0;34m\u001b[0m\u001b[0;34m\u001b[0m\u001b[0m\n\u001b[1;32m    456\u001b[0m             \u001b[0mconn\u001b[0m \u001b[0;34m=\u001b[0m \u001b[0mNone\u001b[0m\u001b[0;34m\u001b[0m\u001b[0m\n",
      "\u001b[0;32m/usr/local/lib/python2.7/site-packages/Pyro4/naming.pyc\u001b[0m in \u001b[0;36mresolve\u001b[0;34m(uri, hmac_key)\u001b[0m\n\u001b[1;32m    446\u001b[0m     \u001b[0mlog\u001b[0m\u001b[0;34m.\u001b[0m\u001b[0mdebug\u001b[0m\u001b[0;34m(\u001b[0m\u001b[0;34m\"resolving %s\"\u001b[0m\u001b[0;34m,\u001b[0m \u001b[0muri\u001b[0m\u001b[0;34m)\u001b[0m\u001b[0;34m\u001b[0m\u001b[0m\n\u001b[1;32m    447\u001b[0m     \u001b[0;32mif\u001b[0m \u001b[0muri\u001b[0m\u001b[0;34m.\u001b[0m\u001b[0mprotocol\u001b[0m \u001b[0;34m==\u001b[0m \u001b[0;34m\"PYRONAME\"\u001b[0m\u001b[0;34m:\u001b[0m\u001b[0;34m\u001b[0m\u001b[0m\n\u001b[0;32m--> 448\u001b[0;31m         \u001b[0mnameserver\u001b[0m \u001b[0;34m=\u001b[0m \u001b[0mlocateNS\u001b[0m\u001b[0;34m(\u001b[0m\u001b[0muri\u001b[0m\u001b[0;34m.\u001b[0m\u001b[0mhost\u001b[0m\u001b[0;34m,\u001b[0m \u001b[0muri\u001b[0m\u001b[0;34m.\u001b[0m\u001b[0mport\u001b[0m\u001b[0;34m,\u001b[0m \u001b[0mhmac_key\u001b[0m\u001b[0;34m=\u001b[0m\u001b[0mhmac_key\u001b[0m\u001b[0;34m)\u001b[0m\u001b[0;34m\u001b[0m\u001b[0m\n\u001b[0m\u001b[1;32m    449\u001b[0m         \u001b[0muri\u001b[0m \u001b[0;34m=\u001b[0m \u001b[0mnameserver\u001b[0m\u001b[0;34m.\u001b[0m\u001b[0mlookup\u001b[0m\u001b[0;34m(\u001b[0m\u001b[0muri\u001b[0m\u001b[0;34m.\u001b[0m\u001b[0mobject\u001b[0m\u001b[0;34m)\u001b[0m\u001b[0;34m\u001b[0m\u001b[0m\n\u001b[1;32m    450\u001b[0m         \u001b[0mnameserver\u001b[0m\u001b[0;34m.\u001b[0m\u001b[0m_pyroRelease\u001b[0m\u001b[0;34m(\u001b[0m\u001b[0;34m)\u001b[0m\u001b[0;34m\u001b[0m\u001b[0m\n",
      "\u001b[0;32m/usr/local/lib/python2.7/site-packages/Pyro4/naming.pyc\u001b[0m in \u001b[0;36mlocateNS\u001b[0;34m(host, port, broadcast, hmac_key)\u001b[0m\n\u001b[1;32m    433\u001b[0m         \u001b[0;32mif\u001b[0m \u001b[0msys\u001b[0m\u001b[0;34m.\u001b[0m\u001b[0mversion_info\u001b[0m \u001b[0;34m>=\u001b[0m \u001b[0;34m(\u001b[0m\u001b[0;36m3\u001b[0m\u001b[0;34m,\u001b[0m \u001b[0;36m0\u001b[0m\u001b[0;34m)\u001b[0m\u001b[0;34m:\u001b[0m\u001b[0;34m\u001b[0m\u001b[0m\n\u001b[1;32m    434\u001b[0m             \u001b[0me\u001b[0m\u001b[0;34m.\u001b[0m\u001b[0m__cause__\u001b[0m \u001b[0;34m=\u001b[0m \u001b[0mx\u001b[0m\u001b[0;34m\u001b[0m\u001b[0m\n\u001b[0;32m--> 435\u001b[0;31m         \u001b[0;32mraise\u001b[0m \u001b[0me\u001b[0m\u001b[0;34m\u001b[0m\u001b[0m\n\u001b[0m\u001b[1;32m    436\u001b[0m \u001b[0;34m\u001b[0m\u001b[0m\n\u001b[1;32m    437\u001b[0m \u001b[0;34m\u001b[0m\u001b[0m\n",
      "\u001b[0;31mNamingError\u001b[0m: Failed to locate the nameserver"
     ]
    }
   ],
   "source": [
    "import os\n",
    "from Pyro4 import Daemon, Proxy\n",
    "import socket\n",
    "\n",
    "class Ejemplo(object):\n",
    "    def lstat(self, path='.'):\n",
    "        return os.lstat(path)\n",
    "\n",
    "    def lstat_attr(self, path='.'):\n",
    "        val = os.lstat(path)\n",
    "        return diccionario_de_atributos(val)\n",
    "    \n",
    "def servidor():\n",
    "    Daemon.serveSimple({\n",
    "        Ejemplo(): 'ejemplo'\n",
    "    }, ns=True, verbose=True, host=socket.gethostname())\n",
    "    \n",
    "with lanzar_como_proceso(servidor) as s:\n",
    "    objeto_remoto = Proxy('PYRONAME:ejemplo')\n",
    "    print(objeto_remoto.lstat_attr())"
   ]
  },
  {
   "cell_type": "code",
   "execution_count": null,
   "metadata": {
    "collapsed": true
   },
   "outputs": [],
   "source": []
  }
 ],
 "metadata": {
  "kernelspec": {
   "display_name": "Python 2",
   "language": "python",
   "name": "python2"
  },
  "language_info": {
   "codemirror_mode": {
    "name": "ipython",
    "version": 2
   },
   "file_extension": ".py",
   "mimetype": "text/x-python",
   "name": "python",
   "nbconvert_exporter": "python",
   "pygments_lexer": "ipython2",
   "version": "2.7.10"
  }
 },
 "nbformat": 4,
 "nbformat_minor": 0
}
