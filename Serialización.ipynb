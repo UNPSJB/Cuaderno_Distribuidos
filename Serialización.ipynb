{
 "cells": [
  {
   "cell_type": "markdown",
   "metadata": {},
   "source": [
    "# Serialización de tipo no nativos\n",
    "\n",
    "Pyro4 puede serializar todo lo que [pickle](https://docs.python.org/2/library/pickle.html) pueda serializar. Pero no todos los tipos de datos dentro de la librería estandard son serializables."
   ]
  },
  {
   "cell_type": "markdown",
   "metadata": {},
   "source": [
    "### Tipos de datos serializables por defecto\n",
    " * `bool`\n",
    " * `str`, `unicode`, `basestring`\n",
    " * `int`, `float`, `complex`\n",
    " * `set`, `frozenset`, `list`, `tuple`, `dict`"
   ]
  },
  {
   "cell_type": "markdown",
   "metadata": {},
   "source": [
    "## Para que un tipo de dato no nativo sea serializable...\n",
    "\n",
    "debe implementar [`__getstate__`](https://docs.python.org/2/library/pickle.html#object.__getstate__). En los los tipos de nativos que son privistos mediante [variaciones protegidas] (https://es.wikipedia.org/wiki/GRASP#Variaciones_Protegidas) como por ejemplo:\n",
    "\n"
   ]
  },
  {
   "cell_type": "code",
   "execution_count": 24,
   "metadata": {
    "collapsed": false
   },
   "outputs": [
    {
     "name": "stdout",
     "output_type": "stream",
     "text": [
      "posix.stat_result(st_mode=16877, st_ino=29865223, st_dev=16777221, st_nlink=11, st_uid=501, st_gid=20, st_size=374, st_atime=1445225550, st_mtime=1445225525, st_ctime=1445225525)\n"
     ]
    }
   ],
   "source": [
    "import os\n",
    "stat = os.lstat('.')\n",
    "print(stat)"
   ]
  },
  {
   "cell_type": "markdown",
   "metadata": {},
   "source": [
    "### Ya que Python es dinámico, podemos hacer [*monkeypatching*](https://en.wikipedia.org/wiki/Monkey_patch)?"
   ]
  },
  {
   "cell_type": "code",
   "execution_count": 27,
   "metadata": {
    "collapsed": false
   },
   "outputs": [
    {
     "name": "stdout",
     "output_type": "stream",
     "text": [
      "No funcoina!\n"
     ]
    }
   ],
   "source": [
    "def mi_getstate(self):\n",
    "    return \"algo intresante\"\n",
    "try:\n",
    "    stat.__getstate__ = mi_getstate\n",
    "except:\n",
    "    print(\"No funcoina!\")"
   ]
  },
  {
   "cell_type": "markdown",
   "metadata": {},
   "source": [
    "### Un wrapper podría ser una alternativa, pero que tal si la API de FUSE sportara algo nativo?"
   ]
  },
  {
   "cell_type": "markdown",
   "metadata": {},
   "source": [
    "Veamos el ejemplo que utiliza `os.lstat` del ejemplo de loopback.\n",
    "```python\n",
    "    def getattr(self, path, fh=None):\n",
    "        st = os.lstat(path)\n",
    "        return dict((key, getattr(st, key)) for key in ('st_atime', 'st_ctime',\n",
    "            'st_gid', 'st_mode', 'st_mtime', 'st_nlink', 'st_size', 'st_uid'))\n",
    "```\n",
    "[Ver en Github](https://github.com/terencehonles/fusepy/blob/master/examples/loopback.py#L39)\n",
    "\n",
    "Está utilizando un diccionario, en vez de devolver un tipo de datos personalizado."
   ]
  },
  {
   "cell_type": "markdown",
   "metadata": {},
   "source": [
    "### ¿Cómo generamos un diccionario a partir de un objeto?"
   ]
  },
  {
   "cell_type": "markdown",
   "metadata": {},
   "source": [
    "### ¿Primero debemos saber de qué atributos se compone un objeto *x*?"
   ]
  },
  {
   "cell_type": "markdown",
   "metadata": {},
   "source": [
    "Existe una función interna `dir()` que obtiene todos los atributos y métodos de un objeto o una clase.\n",
    "\n",
    "Veamos como funciona:"
   ]
  },
  {
   "cell_type": "code",
   "execution_count": 32,
   "metadata": {
    "collapsed": false
   },
   "outputs": [
    {
     "name": "stdout",
     "output_type": "stream",
     "text": [
      "Tipo de x: <type 'posix.stat_result'>\n",
      "['__add__', '__class__', '__contains__', '__delattr__', '__doc__', '__eq__', '__format__', '__ge__', '__getattribute__', '__getitem__', '__getslice__', '__gt__', '__hash__', '__init__', '__le__', '__len__', '__lt__', '__mul__', '__ne__', '__new__', '__reduce__', '__reduce_ex__', '__repr__', '__rmul__', '__setattr__', '__sizeof__', '__str__', '__subclasshook__', 'n_fields', 'n_sequence_fields', 'n_unnamed_fields', 'st_atime', 'st_birthtime', 'st_blksize', 'st_blocks', 'st_ctime', 'st_dev', 'st_flags', 'st_gen', 'st_gid', 'st_ino', 'st_mode', 'st_mtime', 'st_nlink', 'st_rdev', 'st_size', 'st_uid']\n"
     ]
    }
   ],
   "source": [
    "x = os.lstat('.')\n",
    "print(\"Tipo de x: %s\" % type(x))\n",
    "print(dir(x))"
   ]
  },
  {
   "cell_type": "markdown",
   "metadata": {},
   "source": [
    "Los métodos que comienzan y terminan con doble guión bajo, son internos de Python y tienen un significado especial y no nos interesan, no son parte del ***estado*** del objeto."
   ]
  },
  {
   "cell_type": "markdown",
   "metadata": {},
   "source": [
    "### ¿Como obtenemos los nombres de los atributos y métodos de *x* que no son `__foo__`?"
   ]
  },
  {
   "cell_type": "markdown",
   "metadata": {},
   "source": [
    "Las listas por comprenisón son una mecanismo de crear una lista describiendo sus características a partir de  un conjunto, en vez de enumerar sus elementos. Se utiliza la construcción **`for`**."
   ]
  },
  {
   "cell_type": "code",
   "execution_count": 15,
   "metadata": {
    "collapsed": false
   },
   "outputs": [
    {
     "name": "stdout",
     "output_type": "stream",
     "text": [
      "['n_fields', 'n_sequence_fields', 'n_unnamed_fields', 'st_atime', 'st_birthtime', 'st_blksize', 'st_blocks', 'st_ctime', 'st_dev', 'st_flags', 'st_gen', 'st_gid', 'st_ino', 'st_mode', 'st_mtime', 'st_nlink', 'st_rdev', 'st_size', 'st_uid']\n"
     ]
    }
   ],
   "source": [
    "attrs = [attr for attr in dir(x) if not attr.startswith('__')]\n",
    "print attrs"
   ]
  },
  {
   "cell_type": "markdown",
   "metadata": {},
   "source": [
    "#### O lo que es lo mismo, de una manera más funcional"
   ]
  },
  {
   "cell_type": "code",
   "execution_count": 17,
   "metadata": {
    "collapsed": false
   },
   "outputs": [
    {
     "data": {
      "text/plain": [
       "['n_fields',\n",
       " 'n_sequence_fields',\n",
       " 'n_unnamed_fields',\n",
       " 'st_atime',\n",
       " 'st_birthtime',\n",
       " 'st_blksize',\n",
       " 'st_blocks',\n",
       " 'st_ctime',\n",
       " 'st_dev',\n",
       " 'st_flags',\n",
       " 'st_gen',\n",
       " 'st_gid',\n",
       " 'st_ino',\n",
       " 'st_mode',\n",
       " 'st_mtime',\n",
       " 'st_nlink',\n",
       " 'st_rdev',\n",
       " 'st_size',\n",
       " 'st_uid']"
      ]
     },
     "execution_count": 17,
     "metadata": {},
     "output_type": "execute_result"
    }
   ],
   "source": [
    "attr_interesante = lambda a: not a.startswith('__')\n",
    "atributos = lambda obj: filter(attr_interesante, dir(obj))\n",
    "atributos(x)"
   ]
  },
  {
   "cell_type": "markdown",
   "metadata": {},
   "source": [
    "# Generando un diccionario\n",
    "\n",
    "Además de `{'a': 1, 'b': 2}` y `dict(a=1, b=2)`, podemos crear un diccionario a partir de:\n",
    "* *Lista de tuplas* `[('a', 1), ('b',  2)]` pasadas al `dict()` como argumento.\n",
    "    * Es como se utiliza en el ejemplo de `loopback.py`\n",
    "* *Por comprensión* con la notación `{k: v for k, v in [('a', 1), ('b', 2)]}`\n",
    "    * Puede que ser que `v` sea una función de `k` y por lo tanto la iteración se hace sobre un iterable cuyos elmentos no son tuplas."
   ]
  },
  {
   "cell_type": "markdown",
   "metadata": {},
   "source": [
    "### Obtención de un atributo en Python\n",
    "\n",
    "Python es un [lenguaje reflexivo](https://es.wikipedia.org/wiki/Reflexi%C3%B3n_%28inform%C3%A1tica%29), esto significa que se puede, dado un nombre, obtener el atributo de un objeto con que lleva ese nombre.\n"
   ]
  },
  {
   "cell_type": "code",
   "execution_count": 40,
   "metadata": {
    "collapsed": false
   },
   "outputs": [
    {
     "name": "stdout",
     "output_type": "stream",
     "text": [
      "Foo\n",
      "12\n"
     ]
    }
   ],
   "source": [
    "class Ejemplo(object):\n",
    "    def __init__(self, nombre, edad):\n",
    "        self.nombre = nombre\n",
    "        self.edad = edad\n",
    "o = Ejemplo(\"Foo\", 12)\n",
    "print(getattr(o, 'nombre'))\n",
    "print(getattr(o, 'edad'))"
   ]
  },
  {
   "cell_type": "markdown",
   "metadata": {},
   "source": [
    "### En el contexto de lstat..."
   ]
  },
  {
   "cell_type": "code",
   "execution_count": 42,
   "metadata": {
    "collapsed": false
   },
   "outputs": [],
   "source": [
    "def diccionario_de_atributos(cosa):\n",
    "    return {attr: getattr(cosa, attr) for attr in dir(cosa) if not attr.startswith('__')}"
   ]
  },
  {
   "cell_type": "code",
   "execution_count": 43,
   "metadata": {
    "collapsed": false
   },
   "outputs": [
    {
     "data": {
      "text/plain": [
       "{'n_fields': 19,\n",
       " 'n_sequence_fields': 10,\n",
       " 'n_unnamed_fields': 3,\n",
       " 'st_atime': 1445225550.0,\n",
       " 'st_birthtime': 1437916096.0,\n",
       " 'st_blksize': 4096,\n",
       " 'st_blocks': 0,\n",
       " 'st_ctime': 1445225525.0,\n",
       " 'st_dev': 16777221,\n",
       " 'st_flags': 0,\n",
       " 'st_gen': 0,\n",
       " 'st_gid': 20,\n",
       " 'st_ino': 29865223,\n",
       " 'st_mode': 16877,\n",
       " 'st_mtime': 1445225525.0,\n",
       " 'st_nlink': 11,\n",
       " 'st_rdev': 0,\n",
       " 'st_size': 374,\n",
       " 'st_uid': 501}"
      ]
     },
     "execution_count": 43,
     "metadata": {},
     "output_type": "execute_result"
    }
   ],
   "source": [
    "diccionario_de_atributos(stat)"
   ]
  },
  {
   "cell_type": "markdown",
   "metadata": {},
   "source": [
    "![](static/meme_success.jpg)"
   ]
  }
 ],
 "metadata": {
  "kernelspec": {
   "display_name": "Python 2",
   "language": "python",
   "name": "python2"
  },
  "language_info": {
   "codemirror_mode": {
    "name": "ipython",
    "version": 2
   },
   "file_extension": ".py",
   "mimetype": "text/x-python",
   "name": "python",
   "nbconvert_exporter": "python",
   "pygments_lexer": "ipython2",
   "version": "2.7.10"
  }
 },
 "nbformat": 4,
 "nbformat_minor": 0
}
