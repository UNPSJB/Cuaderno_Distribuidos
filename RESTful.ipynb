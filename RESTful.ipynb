{
 "cells": [
  {
   "cell_type": "code",
   "execution_count": 1,
   "metadata": {
    "collapsed": true
   },
   "outputs": [],
   "source": [
    "from fuse import Operations"
   ]
  },
  {
   "cell_type": "code",
   "execution_count": 4,
   "metadata": {
    "collapsed": false
   },
   "outputs": [
    {
     "name": "stdout",
     "output_type": "stream",
     "text": [
      "access\n",
      "bmap\n",
      "chmod\n",
      "chown\n",
      "create\n",
      "destroy\n",
      "flush\n",
      "fsync\n",
      "fsyncdir\n",
      "getattr\n",
      "getxattr\n",
      "init\n",
      "link\n",
      "listxattr\n",
      "lock\n",
      "mkdir\n",
      "mknod\n",
      "open\n",
      "opendir\n",
      "read\n",
      "readdir\n",
      "readlink\n",
      "release\n",
      "releasedir\n",
      "removexattr\n",
      "rename\n",
      "rmdir\n",
      "setxattr\n",
      "statfs\n",
      "symlink\n",
      "truncate\n",
      "unlink\n",
      "utimens\n",
      "write\n"
     ]
    }
   ],
   "source": [
    "metodos_de_fuse = [x for x in dir(Operations) if '__' not in x]\n",
    "print '\\n'.join(metodos_de_fuse)"
   ]
  },
  {
   "cell_type": "code",
   "execution_count": 6,
   "metadata": {
    "collapsed": false
   },
   "outputs": [],
   "source": [
    "Operations.fsync??"
   ]
  },
  {
   "cell_type": "code",
   "execution_count": 7,
   "metadata": {
    "collapsed": true
   },
   "outputs": [],
   "source": [
    "Operations.fsyncdir??"
   ]
  },
  {
   "cell_type": "code",
   "execution_count": 10,
   "metadata": {
    "collapsed": false
   },
   "outputs": [],
   "source": [
    "import pandas as pd"
   ]
  },
  {
   "cell_type": "code",
   "execution_count": null,
   "metadata": {
    "collapsed": true
   },
   "outputs": [],
   "source": [
    "pd.read_excel('./mapeo.xlsx')"
   ]
  }
 ],
 "metadata": {
  "kernelspec": {
   "display_name": "Python 2",
   "language": "python",
   "name": "python2"
  },
  "language_info": {
   "codemirror_mode": {
    "name": "ipython",
    "version": 2
   },
   "file_extension": ".py",
   "mimetype": "text/x-python",
   "name": "python",
   "nbconvert_exporter": "python",
   "pygments_lexer": "ipython2",
   "version": "2.7.10"
  }
 },
 "nbformat": 4,
 "nbformat_minor": 0
}
