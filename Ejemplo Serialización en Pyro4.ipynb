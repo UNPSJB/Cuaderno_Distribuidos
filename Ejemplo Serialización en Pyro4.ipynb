{
 "cells": [
  {
   "cell_type": "code",
   "execution_count": 7,
   "metadata": {
    "collapsed": true
   },
   "outputs": [],
   "source": [
    "import os\n",
    "from Pyro4 import Daemon, Proxy\n",
    "import socket\n",
    "import time"
   ]
  },
  {
   "cell_type": "markdown",
   "metadata": {},
   "source": [
    "# Función para serializar posix.lstat en un diccionario"
   ]
  },
  {
   "cell_type": "code",
   "execution_count": 1,
   "metadata": {
    "collapsed": false
   },
   "outputs": [],
   "source": [
    "def diccionario_de_atributos(cosa):\n",
    "    return {attr: getattr(cosa, attr) for attr in dir(cosa) if not attr.startswith('__')}"
   ]
  },
  {
   "cell_type": "markdown",
   "metadata": {},
   "source": [
    "# Lanzar servidor de nombres"
   ]
  },
  {
   "cell_type": "code",
   "execution_count": 2,
   "metadata": {
    "collapsed": false
   },
   "outputs": [
    {
     "name": "stdout",
     "output_type": "stream",
     "text": [
      "Lanzando pyro4-ns con pid 2721\n"
     ]
    },
    {
     "data": {
      "text/plain": [
       "(True, 2721)"
      ]
     },
     "execution_count": 2,
     "metadata": {},
     "output_type": "execute_result"
    }
   ],
   "source": [
    "from utils import lanzar_backgounrd, lanzar_como_proceso\n",
    "lanzar_backgounrd('pyro4-ns', a_menos_que='lsof -t -i TCP:9090 -sTCP:LISTEN')"
   ]
  },
  {
   "cell_type": "markdown",
   "metadata": {},
   "source": [
    "# Definir el objeto remoto a ser expuesto"
   ]
  },
  {
   "cell_type": "code",
   "execution_count": null,
   "metadata": {
    "collapsed": true
   },
   "outputs": [],
   "source": [
    "class Ejemplo(object):\n",
    "    def lstat(self, path='.'):\n",
    "        return os.lstat(path)\n",
    "\n",
    "    def lstat_attr(self, path='.'):\n",
    "        val = os.lstat(path)\n",
    "        return diccionario_de_atributos(val)\n",
    "    "
   ]
  },
  {
   "cell_type": "markdown",
   "metadata": {},
   "source": [
    "# Definir la función que será utilizada como servidor"
   ]
  },
  {
   "cell_type": "code",
   "execution_count": null,
   "metadata": {
    "collapsed": true
   },
   "outputs": [],
   "source": [
    "def servidor():\n",
    "    Daemon.serveSimple({\n",
    "        Ejemplo(): 'ejemplo'\n",
    "    }, ns=True, verbose=True, host=socket.gethostname())\n",
    "    "
   ]
  },
  {
   "cell_type": "markdown",
   "metadata": {},
   "source": [
    "## Con un [`context manager`](http://eigenhombre.com/2013/04/20/introduction-to-context-managers/) lanzamos el servidor en otro proceso y probamos"
   ]
  },
  {
   "cell_type": "code",
   "execution_count": 15,
   "metadata": {
    "collapsed": false
   },
   "outputs": [
    {
     "name": "stdout",
     "output_type": "stream",
     "text": [
      "Lanzando <function servidor at 0x1027a06e0> con el pid 3445.\n",
      "----------Object <__main__.Ejemplo object at 0x1022b2b90>:\n",
      "    uri = PYRO:obj_c6a405ccb37e4573a0c309d74633fd2f@greybird:49924\n",
      "    name = ejemplo\n",
      "Pyro daemon running.\n",
      "\n",
      "{u'st_ctime': 1445293164.0, u'st_flags': 0, u'st_mtime': 1445293164.0, u'st_blocks': 0, u'st_nlink': 14, u'n_sequence_fields': 10, u'n_unnamed_fields': 3, u'st_gid': 20, u'st_gen': 0, u'st_rdev': 0, u'st_birthtime': 1437916096.0, u'st_ino': 29865223, u'st_dev': 16777221, u'st_uid': 501, u'st_size': 476, u'n_fields': 19, u'st_mode': 16877, u'st_blksize': 4096, u'st_atime': 1445293165.0}\n",
      "----------\n"
     ]
    }
   ],
   "source": [
    "with lanzar_como_proceso(servidor) as s:\n",
    "    time.sleep(.5)  # Esperar el establecimiento del servidor (registandose en el NS)\n",
    "    objeto_remoto = Proxy('PYRONAME:ejemplo')\n",
    "    print(\"-\"*10)\n",
    "    print(objeto_remoto.lstat_attr())\n",
    "    print(\"-\"*10)"
   ]
  },
  {
   "cell_type": "markdown",
   "metadata": {},
   "source": [
    "La salida de todos los procesos se entremezcla pero podemos observar que no ha fallado"
   ]
  },
  {
   "cell_type": "code",
   "execution_count": 17,
   "metadata": {
    "collapsed": false
   },
   "outputs": [
    {
     "name": "stdout",
     "output_type": "stream",
     "text": [
      "Lanzando <function servidor at 0x1027a06e0> con el pid 3594.\n",
      "Ocurrió un error ###don't know how to serialize class <type 'posix.stat_result'>. Give it vars() or an appropriate __getstate__###Object <__main__.Ejemplo object at 0x1022b2b90>:\n",
      "    uri = PYRO:obj_47b5130d80fa4a0bb8e8d3924c790659@greybird:49954\n",
      "    name = ejemplo\n",
      "Pyro daemon running.\n",
      "\n"
     ]
    }
   ],
   "source": [
    "with lanzar_como_proceso(servidor) as s:\n",
    "    time.sleep(.5)  # Esperar el establecimiento del servidor (registandose en el NS)\n",
    "    objeto_remoto = Proxy('PYRONAME:ejemplo')\n",
    "    try:\n",
    "        print(objeto_remoto.lstat())\n",
    "    except Exception as e:\n",
    "        print(\"Ocurrió un error ###%s###\" % e)"
   ]
  }
 ],
 "metadata": {
  "kernelspec": {
   "display_name": "Python 2",
   "language": "python",
   "name": "python2"
  },
  "language_info": {
   "codemirror_mode": {
    "name": "ipython",
    "version": 2
   },
   "file_extension": ".py",
   "mimetype": "text/x-python",
   "name": "python",
   "nbconvert_exporter": "python",
   "pygments_lexer": "ipython2",
   "version": "2.7.10"
  }
 },
 "nbformat": 4,
 "nbformat_minor": 0
}
