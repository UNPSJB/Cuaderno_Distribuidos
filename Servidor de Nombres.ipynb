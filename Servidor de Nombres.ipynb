{
 "cells": [
  {
   "cell_type": "markdown",
   "metadata": {},
   "source": [
    "# Utilizando el servidor de nombres"
   ]
  },
  {
   "cell_type": "markdown",
   "metadata": {},
   "source": [
    "El servidor de nombres permite que un cliente se contacte con un serivor de manera más sencilla.\n",
    "\n",
    "Cuándo no se utiliza un servidor de nombres, se necesita especificar la IP y puerto del objeto remoto\n",
    "en cada llamada."
   ]
  },
  {
   "cell_type": "code",
   "execution_count": 1,
   "metadata": {
    "collapsed": false
   },
   "outputs": [
    {
     "data": {
      "text/html": [
       "\n",
       "        <iframe\n",
       "            width=\"100%\"\n",
       "            height=\"500px\"\n",
       "            src=\"https://pythonhosted.org/Pyro4/servercode.html#intermission-example-2-server-and-client-with-name-server\"\n",
       "            frameborder=\"0\"\n",
       "            allowfullscreen\n",
       "        ></iframe>\n",
       "        "
      ],
      "text/plain": [
       "<IPython.lib.display.IFrame at 0x108d59d90>"
      ]
     },
     "execution_count": 1,
     "metadata": {},
     "output_type": "execute_result"
    }
   ],
   "source": [
    "from IPython.display import IFrame\n",
    "IFrame(\n",
    "    'https://pythonhosted.org/Pyro4/servercode.html#intermission-example-2-server-and-client-with-name-server',\n",
    "    width='100%', height='500px')"
   ]
  },
  {
   "cell_type": "markdown",
   "metadata": {},
   "source": [
    "# Algunas consideraciones\n",
    "Esta documento es un Notebook de Jupyter, cuyo kernel es un solo proceso.\n",
    "\n",
    "Para poder lanzar procesos utilizaremos:\n",
    "\n",
    "* Clase [`subporcess.Popen(comando)`](https://pythonhosted.org/Pyro4/servercode.html#intermission-example-2-server-and-client-with-name-server) para lanzar comandos en segundo plano. Lo utilizaremos para el comando `pyro4-ns`.\n",
    "* Clase [`multiprocess.Process(target, args, kwargs)`](https://docs.python.org/2/library/multiprocessing.html) Permite lanzar un nuevo intérprete a a partir del estado actual, comenzando a ejecutar en la función `target`.\n",
    "* Función [`atexit.register(funcion, *args, **kwargs)`](https://docs.python.org/2/library/atexit.html) Pemrite registrar funciones al momento de que un proceso termina. Lo utilizaremos para detener el servidor y el servidor de nombres al momento de que el kernel se cierra.\n",
    "* Métodos `start()` y `stop()` en `Process`.\n",
    "* Ejecución de líneas de bash mediante el comando `!` de Jupyter. Las variables de bash se referencias con `$nombre`.\n",
    "* Comando [`lsof`](http://linux.die.net/man/8/lsof) para detectar que procesos están escuchando en un puerto. En particular, el puerto del servidor de nombres.\n",
    "* Comando `kill -KILL` para terminar un proceso."
   ]
  },
  {
   "cell_type": "code",
   "execution_count": 2,
   "metadata": {
    "collapsed": false
   },
   "outputs": [
    {
     "name": "stdout",
     "output_type": "stream",
     "text": [
      "Servidor de nombres en ejecución 48950\n"
     ]
    }
   ],
   "source": [
    "# Mater posibles nameservers\n",
    "pids = !lsof -t -i TCP:9090 -sTCP:LISTEN\n",
    "for pid in pids:\n",
    "    print(\"Matando a %s\" % pid)\n",
    "    !kill -KILL $pid && sleep 2\n",
    "    \n",
    "# Lanzar el servidor de nomrbes en segundo plano\n",
    "import atexit\n",
    "from subprocess import Popen\n",
    "nameserver = Popen('pyro4-ns')\n",
    "def al_finalizar(servidor):\n",
    "    print(\"Finalizando el servidor de nombres con pid %s\", servidor.pid)\n",
    "    nameserver.terminate()\n",
    "atexit.register(al_finalizar, servidor=nameserver) # Matamos al NS al final\n",
    "print(\"Servidor de nombres en ejecución %d\" % nameserver.pid)"
   ]
  },
  {
   "cell_type": "markdown",
   "metadata": {},
   "source": [
    "### *El código de arriba es el equivalente a lanzarlo desde la consola:*\n",
    "![Servidor de Nombres de Pyro4](static/pyro-ns.png)\n",
    "\n",
    "Si lo lanzamos desde la consola, el servidor de nombres deberá estar en ejecución duranto todo el proceo de desarollo y eventual puesta en producción. No se activa como servicio del sistema por defecto, a diferencia de  [`rpcbind`](https://en.wikipedia.org/wiki/Portmap)."
   ]
  },
  {
   "cell_type": "markdown",
   "metadata": {},
   "source": [
    "# Creando el servidor"
   ]
  },
  {
   "cell_type": "code",
   "execution_count": 3,
   "metadata": {
    "collapsed": false
   },
   "outputs": [],
   "source": [
    "import os\n",
    "from Pyro4 import Daemon\n",
    "from socket import gethostname\n",
    "\n",
    "hostname = gethostname()\n",
    "\n",
    "class Saludador(object):\n",
    "    \"\"\"\n",
    "    Objeto a ser expuesto.\n",
    "    \"\"\"\n",
    "    def saludar(self, nombre):\n",
    "        \"\"\"\n",
    "        Retorna un saludo\n",
    "        \"\"\"\n",
    "        return \"Hola %s\" % nombre\n",
    "    \n",
    "def exponer_objetos():\n",
    "    # Crear una instancia\n",
    "    saludador = Saludador()\n",
    "    # serverSimple activa el loop, en este caso el objeto\n",
    "    # se expone bajo el nombre saludador.\n",
    "    Daemon.serveSimple(\n",
    "    {\n",
    "        saludador: \"saludador\"\n",
    "    },\n",
    "    ns=True, verbose=True, host=hostname)\n"
   ]
  },
  {
   "cell_type": "markdown",
   "metadata": {},
   "source": [
    "### Creación de un proceso servidor"
   ]
  },
  {
   "cell_type": "code",
   "execution_count": 4,
   "metadata": {
    "collapsed": false
   },
   "outputs": [
    {
     "name": "stdout",
     "output_type": "stream",
     "text": [
      "El servidor es un subproceso con el PID: 48962\n"
     ]
    }
   ],
   "source": [
    "# Utilizamos la función definida en la celda anterior\n",
    "from multiprocessing import Process\n",
    "servidor = Process(target=exponer_objetos)\n",
    "servidor.start()\n",
    "atexit.register(servidor.terminate)\n",
    "print(\"El servidor es un subproceso con el PID: %d\" % servidor.pid)"
   ]
  },
  {
   "cell_type": "markdown",
   "metadata": {},
   "source": [
    "# Ahora el cliente"
   ]
  },
  {
   "cell_type": "code",
   "execution_count": 5,
   "metadata": {
    "collapsed": false
   },
   "outputs": [
    {
     "name": "stdout",
     "output_type": "stream",
     "text": [
      "Object <__main__.Saludador object at 0x1089adb10>:\n",
      "    uri = PYRO:obj_1e4822f1b3654f2abc1acf185c4f29f1@greybird:55915\n",
      "    name = saludador\n",
      "Pyro daemon running.\n"
     ]
    }
   ],
   "source": [
    "from Pyro4 import Proxy"
   ]
  },
  {
   "cell_type": "markdown",
   "metadata": {},
   "source": [
    "## Ahora el serivdor de nombres se encarga de mantener las ubicaciones"
   ]
  },
  {
   "cell_type": "code",
   "execution_count": 6,
   "metadata": {
    "collapsed": false
   },
   "outputs": [],
   "source": [
    "objeto = Proxy('PYRONAME:saludador')"
   ]
  },
  {
   "cell_type": "code",
   "execution_count": 7,
   "metadata": {
    "collapsed": false
   },
   "outputs": [
    {
     "data": {
      "text/plain": [
       "u'Hola Pepe'"
      ]
     },
     "execution_count": 7,
     "metadata": {},
     "output_type": "execute_result"
    }
   ],
   "source": [
    "objeto.saludar('Pepe')"
   ]
  },
  {
   "cell_type": "markdown",
   "metadata": {},
   "source": [
    "![Success](static/meme_success.jpg)"
   ]
  }
 ],
 "metadata": {
  "kernelspec": {
   "display_name": "Python 2",
   "language": "python",
   "name": "python2"
  },
  "language_info": {
   "codemirror_mode": {
    "name": "ipython",
    "version": 2
   },
   "file_extension": ".py",
   "mimetype": "text/x-python",
   "name": "python",
   "nbconvert_exporter": "python",
   "pygments_lexer": "ipython2",
   "version": "2.7.10"
  }
 },
 "nbformat": 4,
 "nbformat_minor": 0
}
