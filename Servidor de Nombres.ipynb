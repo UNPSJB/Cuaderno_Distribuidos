{
 "cells": [
  {
   "cell_type": "markdown",
   "metadata": {},
   "source": [
    "# Utilizando el servidor de nombres"
   ]
  },
  {
   "cell_type": "markdown",
   "metadata": {},
   "source": [
    "El servidor de nombres permite que un cliente se contacte con un serivor de manera más sencilla.\n",
    "\n",
    "Cuándo no se utiliza un servidor de nombres, se necesita especificar la IP y puerto del objeto remoto\n",
    "en cada llamada."
   ]
  },
  {
   "cell_type": "code",
   "execution_count": 1,
   "metadata": {
    "collapsed": false
   },
   "outputs": [
    {
     "data": {
      "text/html": [
       "\n",
       "        <iframe\n",
       "            width=\"100%\"\n",
       "            height=\"500px\"\n",
       "            src=\"https://pythonhosted.org/Pyro4/servercode.html#intermission-example-2-server-and-client-with-name-server\"\n",
       "            frameborder=\"0\"\n",
       "            allowfullscreen\n",
       "        ></iframe>\n",
       "        "
      ],
      "text/plain": [
       "<IPython.lib.display.IFrame at 0x10690cdd0>"
      ]
     },
     "execution_count": 1,
     "metadata": {},
     "output_type": "execute_result"
    }
   ],
   "source": [
    "from IPython.display import IFrame\n",
    "IFrame(\n",
    "    'https://pythonhosted.org/Pyro4/servercode.html#intermission-example-2-server-and-client-with-name-server',\n",
    "    width='100%', height='500px')"
   ]
  },
  {
   "cell_type": "markdown",
   "metadata": {},
   "source": [
    "# Algunas consideraciones\n",
    "Esta documento es un Notebook de Jupyter, cuyo kernel es un solo proceso.\n",
    "\n",
    "Para poder lanzar procesos utilizaremos:\n",
    "\n",
    "* Clase [`subporcess.Popen(comando)`](https://pythonhosted.org/Pyro4/servercode.html#intermission-example-2-server-and-client-with-name-server) para lanzar comandos en segundo plano. Lo utilizaremos para el comando `pyro4-ns`.\n",
    "* Clase [`multiprocess.Process(target, args, kwargs)`](https://docs.python.org/2/library/multiprocessing.html) Permite lanzar un nuevo intérprete a a partir del estado actual, comenzando a ejecutar en la función `target`.\n",
    "* Función [`atexit.register(funcion, *args, **kwargs)`](https://docs.python.org/2/library/atexit.html) Pemrite registrar funciones al momento de que un proceso termina. Lo utilizaremos para detener el servidor y el servidor de nombres al momento de que el kernel se cierra.\n",
    "* Métodos `start()` y `stop()` en `Process`.\n",
    "* Ejecución de líneas de bash mediante el comando `!` de Jupyter. Las variables de bash se referencias con `$nombre`.\n",
    "* Comando [`lsof`](http://linux.die.net/man/8/lsof) para detectar que procesos están escuchando en un puerto. En particular, el puerto del servidor de nombres.\n",
    "* Comando `kill -KILL` para terminar un proceso."
   ]
  },
  {
   "cell_type": "code",
   "execution_count": 2,
   "metadata": {
    "collapsed": false
   },
   "outputs": [
    {
     "name": "stdout",
     "output_type": "stream",
     "text": [
      "Matando a 66234\n",
      "Servidor de nombres en ejecución 66331\n"
     ]
    }
   ],
   "source": [
    "# Mater posibles nameservers\n",
    "pids = !lsof -t -i TCP:9090 -sTCP:LISTEN\n",
    "for pid in pids:\n",
    "    print(\"Matando a %s\" % pid)\n",
    "    !kill -KILL $pid && sleep 2\n",
    "    \n",
    "# Lanzar el servidor de nomrbes en segundo plano\n",
    "import atexit\n",
    "from subprocess import Popen\n",
    "nameserver = Popen('pyro4-ns')\n",
    "def al_finalizar(servidor):\n",
    "    print(\"Finalizando el servidor de nombres con pid %s\", servidor.pid)\n",
    "    nameserver.terminate()\n",
    "atexit.register(al_finalizar, servidor=nameserver) # Matamos al NS al final\n",
    "print(\"Servidor de nombres en ejecución %d\" % nameserver.pid)"
   ]
  },
  {
   "cell_type": "markdown",
   "metadata": {},
   "source": [
    "### *El código de arriba es el equivalente a lanzarlo desde la consola:*\n",
    "![Servidor de Nombres de Pyro4](static/pyro-ns.png)\n",
    "\n",
    "Si lo lanzamos desde la consola, el servidor de nombres deberá estar en ejecución duranto todo el proceo de desarollo y eventual puesta en producción. No se activa como servicio del sistema por defecto, a diferencia de  [`rpcbind`](https://en.wikipedia.org/wiki/Portmap)."
   ]
  },
  {
   "cell_type": "markdown",
   "metadata": {},
   "source": [
    "# Creando el servidor"
   ]
  },
  {
   "cell_type": "code",
   "execution_count": 3,
   "metadata": {
    "collapsed": false
   },
   "outputs": [],
   "source": [
    "import os\n",
    "from Pyro4 import Daemon\n",
    "from socket import gethostname\n",
    "\n",
    "hostname = gethostname()\n",
    "\n",
    "class Saludador(object):\n",
    "    \"\"\"\n",
    "    Objeto a ser expuesto.\n",
    "    \"\"\"\n",
    "    def saludar(self, nombre):\n",
    "        \"\"\"\n",
    "        Retorna un saludo\n",
    "        \"\"\"\n",
    "        return \"Hola %s\" % nombre\n",
    "    \n",
    "def exponer_objetos():\n",
    "    # Crear una instancia\n",
    "    saludador = Saludador()\n",
    "    # serverSimple activa el loop, en este caso el objeto\n",
    "    # se expone bajo el nombre saludador.\n",
    "    Daemon.serveSimple(\n",
    "    {\n",
    "        saludador: \"saludador\"\n",
    "    },\n",
    "    ns=True, verbose=True, host=hostname)\n"
   ]
  },
  {
   "cell_type": "markdown",
   "metadata": {},
   "source": [
    "### Creación de un proceso servidor"
   ]
  },
  {
   "cell_type": "code",
   "execution_count": 4,
   "metadata": {
    "collapsed": false
   },
   "outputs": [
    {
     "name": "stdout",
     "output_type": "stream",
     "text": [
      "El servidor es un subproceso con el PID: 66332\n"
     ]
    }
   ],
   "source": [
    "# Utilizamos la función definida en la celda anterior\n",
    "from multiprocessing import Process\n",
    "servidor = Process(target=exponer_objetos)\n",
    "servidor.start()\n",
    "atexit.register(servidor.terminate)\n",
    "print(\"El servidor es un subproceso con el PID: %d\" % servidor.pid)"
   ]
  },
  {
   "cell_type": "markdown",
   "metadata": {},
   "source": [
    "# Ahora el cliente"
   ]
  },
  {
   "cell_type": "code",
   "execution_count": 5,
   "metadata": {
    "collapsed": false
   },
   "outputs": [],
   "source": [
    "from Pyro4 import Proxy"
   ]
  },
  {
   "cell_type": "markdown",
   "metadata": {},
   "source": [
    "## Ahora el serivdor de nombres se encarga de mantener las ubicaciones"
   ]
  },
  {
   "cell_type": "code",
   "execution_count": 6,
   "metadata": {
    "collapsed": false
   },
   "outputs": [],
   "source": [
    "objeto = Proxy('PYRONAME:saludador')"
   ]
  },
  {
   "cell_type": "code",
   "execution_count": 7,
   "metadata": {
    "collapsed": false
   },
   "outputs": [
    {
     "name": "stderr",
     "output_type": "stream",
     "text": [
      "Process Process-1:\n",
      "Traceback (most recent call last):\n",
      "  File \"/usr/local/Cellar/python/2.7.10_2/Frameworks/Python.framework/Versions/2.7/lib/python2.7/multiprocessing/process.py\", line 258, in _bootstrap\n",
      "    self.run()\n",
      "  File \"/usr/local/Cellar/python/2.7.10_2/Frameworks/Python.framework/Versions/2.7/lib/python2.7/multiprocessing/process.py\", line 114, in run\n",
      "    self._target(*self._args, **self._kwargs)\n",
      "  File \"<ipython-input-3-17a43ad2738f>\", line 26, in exponer_objetos\n",
      "    ns=True, verbose=True, host=hostname)\n",
      "  File \"/usr/local/lib/python2.7/site-packages/Pyro4/core.py\", line 953, in serveSimple\n",
      "    ns = Pyro4.naming.locateNS()\n",
      "  File \"/usr/local/lib/python2.7/site-packages/Pyro4/naming.py\", line 435, in locateNS\n",
      "    raise e\n",
      "NamingError: Failed to locate the nameserver\n"
     ]
    },
    {
     "ename": "NamingError",
     "evalue": "Failed to locate the nameserver",
     "output_type": "error",
     "traceback": [
      "\u001b[0;31m---------------------------------------------------------------------------\u001b[0m",
      "\u001b[0;31mNamingError\u001b[0m                               Traceback (most recent call last)",
      "\u001b[0;32m<ipython-input-7-39b6212f8da8>\u001b[0m in \u001b[0;36m<module>\u001b[0;34m()\u001b[0m\n\u001b[0;32m----> 1\u001b[0;31m \u001b[0mobjeto\u001b[0m\u001b[0;34m.\u001b[0m\u001b[0msaludar\u001b[0m\u001b[0;34m(\u001b[0m\u001b[0;34m'Pepe'\u001b[0m\u001b[0;34m)\u001b[0m\u001b[0;34m\u001b[0m\u001b[0m\n\u001b[0m",
      "\u001b[0;32m/usr/local/lib/python2.7/site-packages/Pyro4/core.pyc\u001b[0m in \u001b[0;36m__getattr__\u001b[0;34m(self, name)\u001b[0m\n\u001b[1;32m    245\u001b[0m             \u001b[0;31m# get metadata if it's not there yet\u001b[0m\u001b[0;34m\u001b[0m\u001b[0;34m\u001b[0m\u001b[0m\n\u001b[1;32m    246\u001b[0m             \u001b[0;32mif\u001b[0m \u001b[0;32mnot\u001b[0m \u001b[0mself\u001b[0m\u001b[0;34m.\u001b[0m\u001b[0m_pyroMethods\u001b[0m \u001b[0;32mand\u001b[0m \u001b[0;32mnot\u001b[0m \u001b[0mself\u001b[0m\u001b[0;34m.\u001b[0m\u001b[0m_pyroAttrs\u001b[0m\u001b[0;34m:\u001b[0m\u001b[0;34m\u001b[0m\u001b[0m\n\u001b[0;32m--> 247\u001b[0;31m                 \u001b[0mself\u001b[0m\u001b[0;34m.\u001b[0m\u001b[0m_pyroGetMetadata\u001b[0m\u001b[0;34m(\u001b[0m\u001b[0;34m)\u001b[0m\u001b[0;34m\u001b[0m\u001b[0m\n\u001b[0m\u001b[1;32m    248\u001b[0m         \u001b[0;32mif\u001b[0m \u001b[0mname\u001b[0m \u001b[0;32min\u001b[0m \u001b[0mself\u001b[0m\u001b[0;34m.\u001b[0m\u001b[0m_pyroAttrs\u001b[0m\u001b[0;34m:\u001b[0m\u001b[0;34m\u001b[0m\u001b[0m\n\u001b[1;32m    249\u001b[0m             \u001b[0;32mreturn\u001b[0m \u001b[0mself\u001b[0m\u001b[0;34m.\u001b[0m\u001b[0m_pyroInvoke\u001b[0m\u001b[0;34m(\u001b[0m\u001b[0;34m\"__getattr__\"\u001b[0m\u001b[0;34m,\u001b[0m \u001b[0;34m(\u001b[0m\u001b[0mname\u001b[0m\u001b[0;34m,\u001b[0m\u001b[0;34m)\u001b[0m\u001b[0;34m,\u001b[0m \u001b[0mNone\u001b[0m\u001b[0;34m)\u001b[0m\u001b[0;34m\u001b[0m\u001b[0m\n",
      "\u001b[0;32m/usr/local/lib/python2.7/site-packages/Pyro4/core.pyc\u001b[0m in \u001b[0;36m_pyroGetMetadata\u001b[0;34m(self, objectId, known_metadata)\u001b[0m\n\u001b[1;32m    541\u001b[0m         \u001b[0;32mif\u001b[0m \u001b[0mself\u001b[0m\u001b[0;34m.\u001b[0m\u001b[0m_pyroConnection\u001b[0m \u001b[0;32mis\u001b[0m \u001b[0mNone\u001b[0m \u001b[0;32mand\u001b[0m \u001b[0;32mnot\u001b[0m \u001b[0mknown_metadata\u001b[0m\u001b[0;34m:\u001b[0m\u001b[0;34m\u001b[0m\u001b[0m\n\u001b[1;32m    542\u001b[0m             \u001b[0;32mtry\u001b[0m\u001b[0;34m:\u001b[0m\u001b[0;34m\u001b[0m\u001b[0m\n\u001b[0;32m--> 543\u001b[0;31m                 \u001b[0mself\u001b[0m\u001b[0;34m.\u001b[0m\u001b[0m__pyroCreateConnection\u001b[0m\u001b[0;34m(\u001b[0m\u001b[0;34m)\u001b[0m\u001b[0;34m\u001b[0m\u001b[0m\n\u001b[0m\u001b[1;32m    544\u001b[0m             \u001b[0;32mexcept\u001b[0m \u001b[0merrors\u001b[0m\u001b[0;34m.\u001b[0m\u001b[0mPyroError\u001b[0m\u001b[0;34m:\u001b[0m\u001b[0;34m\u001b[0m\u001b[0m\n\u001b[1;32m    545\u001b[0m                 \u001b[0mlog\u001b[0m\u001b[0;34m.\u001b[0m\u001b[0merror\u001b[0m\u001b[0;34m(\u001b[0m\u001b[0;34m\"problem getting metadata: cannot connect\"\u001b[0m\u001b[0;34m)\u001b[0m\u001b[0;34m\u001b[0m\u001b[0m\n",
      "\u001b[0;32m/usr/local/lib/python2.7/site-packages/Pyro4/core.pyc\u001b[0m in \u001b[0;36m__pyroCreateConnection\u001b[0;34m(self, replaceUri)\u001b[0m\n\u001b[1;32m    452\u001b[0m                 \u001b[0;32mreturn\u001b[0m \u001b[0mFalse\u001b[0m  \u001b[0;31m# already connected\u001b[0m\u001b[0;34m\u001b[0m\u001b[0m\n\u001b[1;32m    453\u001b[0m             \u001b[0;32mfrom\u001b[0m \u001b[0mPyro4\u001b[0m\u001b[0;34m.\u001b[0m\u001b[0mnaming\u001b[0m \u001b[0;32mimport\u001b[0m \u001b[0mresolve\u001b[0m  \u001b[0;31m# don't import this globally because of cyclic dependency\u001b[0m\u001b[0;34m\u001b[0m\u001b[0m\n\u001b[0;32m--> 454\u001b[0;31m             \u001b[0muri\u001b[0m \u001b[0;34m=\u001b[0m \u001b[0mresolve\u001b[0m\u001b[0;34m(\u001b[0m\u001b[0mself\u001b[0m\u001b[0;34m.\u001b[0m\u001b[0m_pyroUri\u001b[0m\u001b[0;34m,\u001b[0m \u001b[0mself\u001b[0m\u001b[0;34m.\u001b[0m\u001b[0m_pyroHmacKey\u001b[0m\u001b[0;34m)\u001b[0m\u001b[0;34m\u001b[0m\u001b[0m\n\u001b[0m\u001b[1;32m    455\u001b[0m             \u001b[0;31m# socket connection (normal or Unix domain socket)\u001b[0m\u001b[0;34m\u001b[0m\u001b[0;34m\u001b[0m\u001b[0m\n\u001b[1;32m    456\u001b[0m             \u001b[0mconn\u001b[0m \u001b[0;34m=\u001b[0m \u001b[0mNone\u001b[0m\u001b[0;34m\u001b[0m\u001b[0m\n",
      "\u001b[0;32m/usr/local/lib/python2.7/site-packages/Pyro4/naming.pyc\u001b[0m in \u001b[0;36mresolve\u001b[0;34m(uri, hmac_key)\u001b[0m\n\u001b[1;32m    446\u001b[0m     \u001b[0mlog\u001b[0m\u001b[0;34m.\u001b[0m\u001b[0mdebug\u001b[0m\u001b[0;34m(\u001b[0m\u001b[0;34m\"resolving %s\"\u001b[0m\u001b[0;34m,\u001b[0m \u001b[0muri\u001b[0m\u001b[0;34m)\u001b[0m\u001b[0;34m\u001b[0m\u001b[0m\n\u001b[1;32m    447\u001b[0m     \u001b[0;32mif\u001b[0m \u001b[0muri\u001b[0m\u001b[0;34m.\u001b[0m\u001b[0mprotocol\u001b[0m \u001b[0;34m==\u001b[0m \u001b[0;34m\"PYRONAME\"\u001b[0m\u001b[0;34m:\u001b[0m\u001b[0;34m\u001b[0m\u001b[0m\n\u001b[0;32m--> 448\u001b[0;31m         \u001b[0mnameserver\u001b[0m \u001b[0;34m=\u001b[0m \u001b[0mlocateNS\u001b[0m\u001b[0;34m(\u001b[0m\u001b[0muri\u001b[0m\u001b[0;34m.\u001b[0m\u001b[0mhost\u001b[0m\u001b[0;34m,\u001b[0m \u001b[0muri\u001b[0m\u001b[0;34m.\u001b[0m\u001b[0mport\u001b[0m\u001b[0;34m,\u001b[0m \u001b[0mhmac_key\u001b[0m\u001b[0;34m=\u001b[0m\u001b[0mhmac_key\u001b[0m\u001b[0;34m)\u001b[0m\u001b[0;34m\u001b[0m\u001b[0m\n\u001b[0m\u001b[1;32m    449\u001b[0m         \u001b[0muri\u001b[0m \u001b[0;34m=\u001b[0m \u001b[0mnameserver\u001b[0m\u001b[0;34m.\u001b[0m\u001b[0mlookup\u001b[0m\u001b[0;34m(\u001b[0m\u001b[0muri\u001b[0m\u001b[0;34m.\u001b[0m\u001b[0mobject\u001b[0m\u001b[0;34m)\u001b[0m\u001b[0;34m\u001b[0m\u001b[0m\n\u001b[1;32m    450\u001b[0m         \u001b[0mnameserver\u001b[0m\u001b[0;34m.\u001b[0m\u001b[0m_pyroRelease\u001b[0m\u001b[0;34m(\u001b[0m\u001b[0;34m)\u001b[0m\u001b[0;34m\u001b[0m\u001b[0m\n",
      "\u001b[0;32m/usr/local/lib/python2.7/site-packages/Pyro4/naming.pyc\u001b[0m in \u001b[0;36mlocateNS\u001b[0;34m(host, port, broadcast, hmac_key)\u001b[0m\n\u001b[1;32m    433\u001b[0m         \u001b[0;32mif\u001b[0m \u001b[0msys\u001b[0m\u001b[0;34m.\u001b[0m\u001b[0mversion_info\u001b[0m \u001b[0;34m>=\u001b[0m \u001b[0;34m(\u001b[0m\u001b[0;36m3\u001b[0m\u001b[0;34m,\u001b[0m \u001b[0;36m0\u001b[0m\u001b[0;34m)\u001b[0m\u001b[0;34m:\u001b[0m\u001b[0;34m\u001b[0m\u001b[0m\n\u001b[1;32m    434\u001b[0m             \u001b[0me\u001b[0m\u001b[0;34m.\u001b[0m\u001b[0m__cause__\u001b[0m \u001b[0;34m=\u001b[0m \u001b[0mx\u001b[0m\u001b[0;34m\u001b[0m\u001b[0m\n\u001b[0;32m--> 435\u001b[0;31m         \u001b[0;32mraise\u001b[0m \u001b[0me\u001b[0m\u001b[0;34m\u001b[0m\u001b[0m\n\u001b[0m\u001b[1;32m    436\u001b[0m \u001b[0;34m\u001b[0m\u001b[0m\n\u001b[1;32m    437\u001b[0m \u001b[0;34m\u001b[0m\u001b[0m\n",
      "\u001b[0;31mNamingError\u001b[0m: Failed to locate the nameserver"
     ]
    }
   ],
   "source": [
    "objeto.saludar('Pepe')"
   ]
  },
  {
   "cell_type": "markdown",
   "metadata": {},
   "source": [
    "![Success](static/meme_success.jpg)"
   ]
  }
 ],
 "metadata": {
  "kernelspec": {
   "display_name": "Python 2",
   "language": "python",
   "name": "python2"
  },
  "language_info": {
   "codemirror_mode": {
    "name": "ipython",
    "version": 2
   },
   "file_extension": ".py",
   "mimetype": "text/x-python",
   "name": "python",
   "nbconvert_exporter": "python",
   "pygments_lexer": "ipython2",
   "version": "2.7.10"
  }
 },
 "nbformat": 4,
 "nbformat_minor": 0
}
