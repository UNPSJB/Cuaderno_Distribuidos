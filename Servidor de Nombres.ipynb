{
 "cells": [
  {
   "cell_type": "markdown",
   "metadata": {},
   "source": [
    "# Utilizando el servidor de nombres"
   ]
  },
  {
   "cell_type": "markdown",
   "metadata": {},
   "source": [
    "El servidor de nombres permite que un cliente se contacte con un serivor de manera más sencilla.\n",
    "\n",
    "Cuándo no se utiliza un servidor de nombres, se necesita especificar la IP y puerto del objeto remoto\n",
    "en cada llamada."
   ]
  },
  {
   "cell_type": "code",
   "execution_count": 2,
   "metadata": {
    "collapsed": false
   },
   "outputs": [
    {
     "data": {
      "text/html": [
       "\n",
       "        <iframe\n",
       "            width=\"100%\"\n",
       "            height=\"500px\"\n",
       "            src=\"https://pythonhosted.org/Pyro4/servercode.html#intermission-example-2-server-and-client-with-name-server\"\n",
       "            frameborder=\"0\"\n",
       "            allowfullscreen\n",
       "        ></iframe>\n",
       "        "
      ],
      "text/plain": [
       "<IPython.lib.display.IFrame at 0x10a502cd0>"
      ]
     },
     "execution_count": 2,
     "metadata": {},
     "output_type": "execute_result"
    }
   ],
   "source": [
    "from IPython.display import IFrame\n",
    "IFrame(\n",
    "    'https://pythonhosted.org/Pyro4/servercode.html#intermission-example-2-server-and-client-with-name-server',\n",
    "    width='100%', height='500px')"
   ]
  },
  {
   "cell_type": "markdown",
   "metadata": {},
   "source": [
    "# Arquitectura del NS\n",
    "<img src=\"static/ns.svg?foo\">"
   ]
  },
  {
   "cell_type": "markdown",
   "metadata": {},
   "source": [
    "# Algunas consideraciones\n",
    "Esta documento es un Notebook de Jupyter, cuyo kernel es un solo proceso.\n",
    "\n",
    "Para poder lanzar procesos utilizaremos:\n",
    "\n",
    "* Clase [`subporcess.Popen(comando)`](https://pythonhosted.org/Pyro4/servercode.html#intermission-example-2-server-and-client-with-name-server) para lanzar comandos en segundo plano. Lo utilizaremos para el comando `pyro4-ns`.\n",
    "* Clase [`multiprocess.Process(target, args, kwargs)`](https://docs.python.org/2/library/multiprocessing.html) Permite lanzar un nuevo intérprete a a partir del estado actual, comenzando a ejecutar en la función `target`.\n",
    "* Métodos `start()` y `stop()` en `Process`.\n",
    "* Comando [`lsof`](http://linux.die.net/man/8/lsof) para detectar que procesos están escuchando en un puerto. En particular, el puerto del servidor de nombres."
   ]
  },
  {
   "cell_type": "code",
   "execution_count": 3,
   "metadata": {
    "collapsed": false
   },
   "outputs": [
    {
     "name": "stdout",
     "output_type": "stream",
     "text": [
      "Lanzando pyro4-ns con pid 26851\n",
      "Se lanzó\n"
     ]
    }
   ],
   "source": [
    "from utils import lanzar_backgounrd\n",
    "ok, why = lanzar_backgounrd('pyro4-ns', a_menos_que='lsof -t -i TCP:9090 -sTCP:LISTEN')\n",
    "if ok:\n",
    "    print(\"Se lanzó\")\n",
    "else:\n",
    "    print(\"Ya estaba en ejecución\")\n",
    "    "
   ]
  },
  {
   "cell_type": "markdown",
   "metadata": {},
   "source": [
    "### *El código de arriba es el equivalente a lanzarlo desde la consola:*\n",
    "![Servidor de Nombres de Pyro4](static/pyro-ns.png)\n",
    "\n",
    "Si lo lanzamos desde la consola, el servidor de nombres deberá estar en ejecución duranto todo el proceo de desarollo y eventual puesta en producción. No se activa como servicio del sistema por defecto, a diferencia de  [`rpcbind`](https://en.wikipedia.org/wiki/Portmap)."
   ]
  },
  {
   "cell_type": "markdown",
   "metadata": {},
   "source": [
    "# Creando el servidor"
   ]
  },
  {
   "cell_type": "code",
   "execution_count": 8,
   "metadata": {
    "collapsed": false
   },
   "outputs": [],
   "source": [
    "import os\n",
    "from Pyro4 import Daemon\n",
    "from socket import gethostname\n",
    "\n",
    "hostname = gethostname()\n",
    "\n",
    "class Saludador(object):\n",
    "    \"\"\"\n",
    "    Objeto a ser expuesto.\n",
    "    \"\"\"\n",
    "    def saludar(self, nombre):\n",
    "        \"\"\"\n",
    "        Retorna un saludo\n",
    "        \"\"\"\n",
    "        return \"Hola %s\" % nombre\n",
    "    \n",
    "def exponer_objetos():\n",
    "    # Crear una instancia\n",
    "    saludador = Saludador()\n",
    "    # serverSimple activa el loop, en este caso el objeto\n",
    "    # se expone bajo el nombre saludador.\n",
    "    Daemon.serveSimple(\n",
    "    {\n",
    "        saludador: \"saludador\"\n",
    "    },\n",
    "    ns=True, verbose=False, host=hostname)\n"
   ]
  },
  {
   "cell_type": "markdown",
   "metadata": {},
   "source": [
    "# Ahora el cliente"
   ]
  },
  {
   "cell_type": "code",
   "execution_count": 9,
   "metadata": {
    "collapsed": false
   },
   "outputs": [],
   "source": [
    "from Pyro4 import Proxy"
   ]
  },
  {
   "cell_type": "markdown",
   "metadata": {},
   "source": [
    "## Ahora el serivdor de nombres se encarga de mantener las ubicaciones"
   ]
  },
  {
   "cell_type": "code",
   "execution_count": 10,
   "metadata": {
    "collapsed": false
   },
   "outputs": [
    {
     "name": "stdout",
     "output_type": "stream",
     "text": [
      "Lanzando <function exponer_objetos at 0x10a5c2f50> con el pid 26949.\n",
      "Primero le preguntamos al NS que objetos están disponibles:\n",
      "--------START LIST \n",
      "Pyro.NameServer --> PYRO:Pyro.NameServer@localhost:9090\n",
      "saludador --> PYRO:obj_10cca021058f42ee9c7baf3b23e45bcd@greybird:53373\n",
      "--------END LIST \n",
      "Hola Pepe\n"
     ]
    }
   ],
   "source": [
    "from utils import lanzar_como_proceso\n",
    "\n",
    "with lanzar_como_proceso(exponer_objetos, warm_up_time=0.5):\n",
    "    print(\"Primero le preguntamos al NS que objetos están disponibles:\")\n",
    "    !pyro4-nsc list\n",
    "    objeto = Proxy('PYRONAME:saludador')\n",
    "    print(objeto.saludar(\"Pepe\"))"
   ]
  },
  {
   "cell_type": "markdown",
   "metadata": {},
   "source": [
    "![Success](static/meme_success.jpg)"
   ]
  }
 ],
 "metadata": {
  "kernelspec": {
   "display_name": "Python 2",
   "language": "python",
   "name": "python2"
  },
  "language_info": {
   "codemirror_mode": {
    "name": "ipython",
    "version": 2
   },
   "file_extension": ".py",
   "mimetype": "text/x-python",
   "name": "python",
   "nbconvert_exporter": "python",
   "pygments_lexer": "ipython2",
   "version": "2.7.10"
  }
 },
 "nbformat": 4,
 "nbformat_minor": 0
}
